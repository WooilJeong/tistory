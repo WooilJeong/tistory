{
 "cells": [
  {
   "cell_type": "markdown",
   "id": "7cea862f",
   "metadata": {},
   "source": [
    "## 설정"
   ]
  },
  {
   "cell_type": "code",
   "execution_count": null,
   "id": "cb0dd1ab",
   "metadata": {
    "ExecuteTime": {
     "end_time": "2022-09-08T01:50:42.391813Z",
     "start_time": "2022-09-08T01:50:42.375680Z"
    }
   },
   "outputs": [],
   "source": [
    "from config import API_INFO\n",
    "kakao_id = API_INFO['kakao_id']\n",
    "kakao_pw = API_INFO['kakao_pw']\n",
    "driver_path = API_INFO['driver_path']\n",
    "client_id = API_INFO['client_id']\n",
    "client_secret = API_INFO['client_secret']\n",
    "blog_url = \"https://dmart.tistory.com/\""
   ]
  },
  {
   "cell_type": "markdown",
   "id": "6040d9ef",
   "metadata": {},
   "source": [
    "## 티스토리 모듈"
   ]
  },
  {
   "cell_type": "code",
   "execution_count": null,
   "id": "0bc85429",
   "metadata": {
    "ExecuteTime": {
     "end_time": "2022-09-08T01:50:43.427848Z",
     "start_time": "2022-09-08T01:50:43.184669Z"
    },
    "scrolled": true
   },
   "outputs": [],
   "source": [
    "from tistory import Tistory, Auto\n",
    "\n",
    "# 티스토리 인스턴스 생성\n",
    "ts = Tistory(blog_url, client_id, client_secret)"
   ]
  },
  {
   "cell_type": "code",
   "execution_count": null,
   "id": "ad406cf8",
   "metadata": {
    "ExecuteTime": {
     "end_time": "2022-09-08T01:51:05.522500Z",
     "start_time": "2022-09-08T01:50:44.373660Z"
    }
   },
   "outputs": [],
   "source": [
    "# 자동화 인스턴스 생성\n",
    "# auto = Auto(kakao_id, kakao_pw, driver_path)\n",
    "auto = Auto(kakao_id, kakao_pw)\n",
    "# Authentication_code 자동 추출\n",
    "authentication_code = auto.get_access_token(ts.authentication_url)\n",
    "# Access Token 초기화\n",
    "ts.init_access_token(authentication_code)"
   ]
  },
  {
   "cell_type": "markdown",
   "id": "55bda5eb",
   "metadata": {},
   "source": [
    "## 블로그 정보"
   ]
  },
  {
   "cell_type": "code",
   "execution_count": null,
   "id": "2c507701",
   "metadata": {},
   "outputs": [],
   "source": [
    "ts.blog_info()"
   ]
  },
  {
   "cell_type": "markdown",
   "id": "0c4411ac",
   "metadata": {},
   "source": [
    "## 글"
   ]
  },
  {
   "cell_type": "markdown",
   "id": "6c487e34",
   "metadata": {},
   "source": [
    "### 글 목록"
   ]
  },
  {
   "cell_type": "code",
   "execution_count": null,
   "id": "abc3689e",
   "metadata": {},
   "outputs": [],
   "source": [
    "page_number = 1\n",
    "ts.list_post(page_number)"
   ]
  },
  {
   "cell_type": "markdown",
   "id": "2b991742",
   "metadata": {},
   "source": [
    "### 글 읽기"
   ]
  },
  {
   "cell_type": "code",
   "execution_count": null,
   "id": "754e94d7",
   "metadata": {},
   "outputs": [],
   "source": [
    "post_id = 10\n",
    "ts.read_post(post_id)"
   ]
  },
  {
   "cell_type": "markdown",
   "id": "3c26dcce",
   "metadata": {},
   "source": [
    "### 글 작성"
   ]
  },
  {
   "cell_type": "code",
   "execution_count": null,
   "id": "b3c7e960",
   "metadata": {
    "scrolled": true
   },
   "outputs": [],
   "source": [
    "# 글 작성\n",
    "title = \"티스토리 파이썬 테스트 타이틀\"\n",
    "content = f\"\"\"\n",
    "티스토리 파이썬 테스트 컨텐츠\n",
    "\"\"\"\n",
    "visibility = \"3\"\n",
    "acceptComment = \"1\"\n",
    "\n",
    "# 글 작성 실행\n",
    "ts.write_post(title=title, \n",
    "              content=content, \n",
    "              visibility=visibility, \n",
    "              acceptComment=acceptComment)"
   ]
  },
  {
   "cell_type": "markdown",
   "id": "8179e2f5",
   "metadata": {},
   "source": [
    "### 글 수정"
   ]
  },
  {
   "cell_type": "code",
   "execution_count": null,
   "id": "cf2f109b",
   "metadata": {},
   "outputs": [],
   "source": [
    "ts.modify_post(postId=11, title='수정', content='수정')"
   ]
  },
  {
   "cell_type": "markdown",
   "id": "25fc5f3e",
   "metadata": {},
   "source": [
    "### 파일 첨부"
   ]
  },
  {
   "cell_type": "code",
   "execution_count": null,
   "id": "87c402a5",
   "metadata": {},
   "outputs": [],
   "source": [
    "ts.attach_post(uploadedfile= \"https://www.google.com/images/branding/googlelogo/1x/googlelogo_light_color_272x92dp.png\")"
   ]
  },
  {
   "cell_type": "markdown",
   "id": "a8c025ed",
   "metadata": {},
   "source": [
    "# 카테고리"
   ]
  },
  {
   "cell_type": "code",
   "execution_count": null,
   "id": "1a0a69ed",
   "metadata": {},
   "outputs": [],
   "source": [
    "ts.list_category()"
   ]
  },
  {
   "cell_type": "markdown",
   "id": "eb857b79",
   "metadata": {},
   "source": [
    "# 댓글"
   ]
  },
  {
   "cell_type": "markdown",
   "id": "c5891c52",
   "metadata": {},
   "source": [
    "### 최근 댓글 목록"
   ]
  },
  {
   "cell_type": "code",
   "execution_count": null,
   "id": "5f4424c1",
   "metadata": {},
   "outputs": [],
   "source": [
    "ts.newest_comment()"
   ]
  },
  {
   "cell_type": "markdown",
   "id": "0015ffe7",
   "metadata": {},
   "source": [
    "### 댓글 목록"
   ]
  },
  {
   "cell_type": "code",
   "execution_count": null,
   "id": "24b1fe4f",
   "metadata": {},
   "outputs": [],
   "source": [
    "post_id=10\n",
    "ts.list_comment(post_id)"
   ]
  },
  {
   "cell_type": "markdown",
   "id": "eed12ec9",
   "metadata": {},
   "source": [
    "### 댓글 작성"
   ]
  },
  {
   "cell_type": "code",
   "execution_count": null,
   "id": "4629833e",
   "metadata": {},
   "outputs": [],
   "source": [
    "ts.write_comment(postId=10, content=\"Python\")"
   ]
  },
  {
   "cell_type": "markdown",
   "id": "3f0208d1",
   "metadata": {},
   "source": [
    "### 댓글 수정"
   ]
  },
  {
   "cell_type": "code",
   "execution_count": null,
   "id": "375b126c",
   "metadata": {},
   "outputs": [],
   "source": [
    "ts.modify_comment(postId=10, commentId=13172618, content=\"댓글 수정\")"
   ]
  },
  {
   "cell_type": "markdown",
   "id": "6cc67574",
   "metadata": {},
   "source": [
    "### 댓글 삭제"
   ]
  },
  {
   "cell_type": "code",
   "execution_count": null,
   "id": "3dfc2439",
   "metadata": {},
   "outputs": [],
   "source": [
    "ts.delete_comment(postId=11, commentId=13172620)"
   ]
  }
 ],
 "metadata": {
  "kernelspec": {
   "display_name": "Python 3 (ipykernel)",
   "language": "python",
   "name": "python3"
  },
  "language_info": {
   "codemirror_mode": {
    "name": "ipython",
    "version": 3
   },
   "file_extension": ".py",
   "mimetype": "text/x-python",
   "name": "python",
   "nbconvert_exporter": "python",
   "pygments_lexer": "ipython3",
   "version": "3.9.12"
  },
  "toc": {
   "base_numbering": 1,
   "nav_menu": {},
   "number_sections": true,
   "sideBar": true,
   "skip_h1_title": false,
   "title_cell": "Table of Contents",
   "title_sidebar": "Contents",
   "toc_cell": false,
   "toc_position": {},
   "toc_section_display": true,
   "toc_window_display": false
  }
 },
 "nbformat": 4,
 "nbformat_minor": 5
}
