{
 "cells": [
  {
   "cell_type": "markdown",
   "id": "b9b3719b",
   "metadata": {},
   "source": [
    "## 티스토리 API 클라이언트 ID & SECRET"
   ]
  },
  {
   "cell_type": "code",
   "execution_count": 1,
   "id": "cb0dd1ab",
   "metadata": {},
   "outputs": [],
   "source": [
    "from config import API_INFO\n",
    "client_id = API_INFO['client_id']\n",
    "client_secret = API_INFO['client_secret']\n",
    "blog_url = \"https://dmart.tistory.com/\""
   ]
  },
  {
   "cell_type": "code",
   "execution_count": 2,
   "id": "0bc85429",
   "metadata": {},
   "outputs": [
    {
     "name": "stdout",
     "output_type": "stream",
     "text": [
      "https://www.tistory.com/oauth/authorize?client_id=8401d1232778c2da6eec533f9355c349&redirect_uri=https://dmart.tistory.com/&response_type=code\n"
     ]
    }
   ],
   "source": [
    "from tistory import Tistory\n",
    "ts = Tistory(blog_url, client_id, client_secret)"
   ]
  },
  {
   "cell_type": "code",
   "execution_count": 3,
   "id": "c6bac20b",
   "metadata": {},
   "outputs": [
    {
     "name": "stdout",
     "output_type": "stream",
     "text": [
      "액세스 토큰 초기화 완료\n"
     ]
    }
   ],
   "source": [
    "# Auth Code\n",
    "authentication_code = \"\"\n",
    "# Access Token 초기화\n",
    "ts.init_access_token(authentication_code)"
   ]
  },
  {
   "cell_type": "markdown",
   "id": "55bda5eb",
   "metadata": {},
   "source": [
    "## 블로그 정보"
   ]
  },
  {
   "cell_type": "code",
   "execution_count": 4,
   "id": "2c507701",
   "metadata": {},
   "outputs": [
    {
     "data": {
      "text/plain": [
       "{'tistory': {'status': '200',\n",
       "  'item': {'id': 'wooil@kakao.com',\n",
       "   'userId': '5499908',\n",
       "   'blogs': [{'name': 'dmart',\n",
       "     'url': 'https://dmart.tistory.com',\n",
       "     'secondaryUrl': '',\n",
       "     'nickname': 'D마트',\n",
       "     'title': 'D마트',\n",
       "     'description': '',\n",
       "     'default': 'Y',\n",
       "     'blogIconUrl': 'https://t1.daumcdn.net/tistory_admin/assets/blog/20220711185948/blogs/550/5505148/index.gif?_version_=20220711185948',\n",
       "     'faviconUrl': 'https://t1.daumcdn.net/tistory_admin/assets/blog/20220711185948/blogs/550/5505148/index.ico?_version_=20220711185948',\n",
       "     'profileThumbnailImageUrl': '',\n",
       "     'profileImageUrl': '',\n",
       "     'role': '소유자',\n",
       "     'blogId': '5505148',\n",
       "     'isEmpty': 'false',\n",
       "     'statistics': {'post': '1',\n",
       "      'comment': '0',\n",
       "      'trackback': '0',\n",
       "      'guestbook': '0'}}]}}}"
      ]
     },
     "execution_count": 4,
     "metadata": {},
     "output_type": "execute_result"
    }
   ],
   "source": [
    "ts.blog_info()"
   ]
  },
  {
   "cell_type": "markdown",
   "id": "0c4411ac",
   "metadata": {},
   "source": [
    "## 글"
   ]
  },
  {
   "cell_type": "markdown",
   "id": "6c487e34",
   "metadata": {},
   "source": [
    "### 글 목록"
   ]
  },
  {
   "cell_type": "code",
   "execution_count": 20,
   "id": "abc3689e",
   "metadata": {},
   "outputs": [
    {
     "data": {
      "text/plain": [
       "{'tistory': {'status': '200',\n",
       "  'item': {'url': 'https://dmart.tistory.com',\n",
       "   'secondaryUrl': '',\n",
       "   'page': '1',\n",
       "   'count': '10',\n",
       "   'totalCount': '2',\n",
       "   'posts': [{'id': '11',\n",
       "     'title': '수정',\n",
       "     'postUrl': 'https://dmart.tistory.com/11',\n",
       "     'visibility': '0',\n",
       "     'categoryId': '0',\n",
       "     'comments': '0',\n",
       "     'trackbacks': '0',\n",
       "     'date': '2022-08-13 15:33:50'},\n",
       "    {'id': '10',\n",
       "     'title': '티스토리 파이썬 테스트 타이틀',\n",
       "     'postUrl': 'https://dmart.tistory.com/10',\n",
       "     'visibility': '20',\n",
       "     'categoryId': '0',\n",
       "     'comments': '1',\n",
       "     'trackbacks': '0',\n",
       "     'date': '2022-08-13 15:28:12'}]}}}"
      ]
     },
     "execution_count": 20,
     "metadata": {},
     "output_type": "execute_result"
    }
   ],
   "source": [
    "page_number = 1\n",
    "ts.list_post(page_number)"
   ]
  },
  {
   "cell_type": "markdown",
   "id": "2b991742",
   "metadata": {},
   "source": [
    "### 글 읽기"
   ]
  },
  {
   "cell_type": "code",
   "execution_count": 6,
   "id": "754e94d7",
   "metadata": {},
   "outputs": [
    {
     "data": {
      "text/plain": [
       "{'tistory': {'status': '200',\n",
       "  'item': {'url': 'https://dmart.tistory.com',\n",
       "   'secondaryUrl': '',\n",
       "   'id': '10',\n",
       "   'slogan': '티스토리-파이썬-테스트-타이틀',\n",
       "   'title': '티스토리 파이썬 테스트 타이틀',\n",
       "   'content': '\\n티스토리 파이썬 테스트 컨텐츠\\n',\n",
       "   'categoryId': '0',\n",
       "   'postUrl': 'https://dmart.tistory.com/10',\n",
       "   'visibility': '20',\n",
       "   'acceptComment': '1',\n",
       "   'acceptTrackback': '0',\n",
       "   'comments': '0',\n",
       "   'trackbacks': '0',\n",
       "   'date': '2022-08-13 15:28:12',\n",
       "   'tags': ''}}}"
      ]
     },
     "execution_count": 6,
     "metadata": {},
     "output_type": "execute_result"
    }
   ],
   "source": [
    "post_id = 10\n",
    "ts.read_post(post_id)"
   ]
  },
  {
   "cell_type": "markdown",
   "id": "3c26dcce",
   "metadata": {},
   "source": [
    "### 글 작성"
   ]
  },
  {
   "cell_type": "code",
   "execution_count": 7,
   "id": "b3c7e960",
   "metadata": {
    "scrolled": true
   },
   "outputs": [
    {
     "data": {
      "text/plain": [
       "{'tistory': {'status': '200',\n",
       "  'postId': '11',\n",
       "  'url': 'https://dmart.tistory.com/11'}}"
      ]
     },
     "execution_count": 7,
     "metadata": {},
     "output_type": "execute_result"
    }
   ],
   "source": [
    "# 글 작성\n",
    "title = \"티스토리 파이썬 테스트 타이틀\"\n",
    "content = f\"\"\"\n",
    "티스토리 파이썬 테스트 컨텐츠\n",
    "\"\"\"\n",
    "visibility = \"3\"\n",
    "acceptComment = \"1\"\n",
    "\n",
    "# 글 작성 실행\n",
    "ts.write_post(title=title, \n",
    "              content=content, \n",
    "              visibility=visibility, \n",
    "              acceptComment=acceptComment)"
   ]
  },
  {
   "cell_type": "markdown",
   "id": "8179e2f5",
   "metadata": {},
   "source": [
    "### 글 수정"
   ]
  },
  {
   "cell_type": "code",
   "execution_count": 11,
   "id": "cf2f109b",
   "metadata": {},
   "outputs": [
    {
     "data": {
      "text/plain": [
       "{'tistory': {'status': '200',\n",
       "  'postId': '11',\n",
       "  'url': 'https://dmart.tistory.com/11'}}"
      ]
     },
     "execution_count": 11,
     "metadata": {},
     "output_type": "execute_result"
    }
   ],
   "source": [
    "ts.modify_post(postId=11, title='수정', content='수정')"
   ]
  },
  {
   "cell_type": "markdown",
   "id": "25fc5f3e",
   "metadata": {},
   "source": [
    "### 파일 첨부"
   ]
  },
  {
   "cell_type": "code",
   "execution_count": 14,
   "id": "87c402a5",
   "metadata": {},
   "outputs": [
    {
     "data": {
      "text/plain": [
       "{'tistory': {'status': '400', 'error_message': '파일을 찾을 수 없습니다.'}}"
      ]
     },
     "execution_count": 14,
     "metadata": {},
     "output_type": "execute_result"
    }
   ],
   "source": [
    "ts.attach_post(uploadedfile= \"https://www.google.com/images/branding/googlelogo/1x/googlelogo_light_color_272x92dp.png\")"
   ]
  },
  {
   "cell_type": "markdown",
   "id": "a8c025ed",
   "metadata": {},
   "source": [
    "# 카테고리"
   ]
  },
  {
   "cell_type": "code",
   "execution_count": 15,
   "id": "1a0a69ed",
   "metadata": {},
   "outputs": [
    {
     "data": {
      "text/plain": [
       "{'tistory': {'status': '200', 'item': {'url': 'dmart', 'secondaryUrl': ''}}}"
      ]
     },
     "execution_count": 15,
     "metadata": {},
     "output_type": "execute_result"
    }
   ],
   "source": [
    "ts.list_category()"
   ]
  },
  {
   "cell_type": "markdown",
   "id": "eb857b79",
   "metadata": {},
   "source": [
    "# 댓글"
   ]
  },
  {
   "cell_type": "markdown",
   "id": "c5891c52",
   "metadata": {},
   "source": [
    "### 최근 댓글 목록"
   ]
  },
  {
   "cell_type": "code",
   "execution_count": 16,
   "id": "5f4424c1",
   "metadata": {},
   "outputs": [
    {
     "data": {
      "text/plain": [
       "{'tistory': {'status': '404',\n",
       "  'error_message': '댓글이 없습니다. [page:1 * count:10]'}}"
      ]
     },
     "execution_count": 16,
     "metadata": {},
     "output_type": "execute_result"
    }
   ],
   "source": [
    "ts.newest_comment()"
   ]
  },
  {
   "cell_type": "markdown",
   "id": "0015ffe7",
   "metadata": {},
   "source": [
    "### 댓글 목록"
   ]
  },
  {
   "cell_type": "code",
   "execution_count": 25,
   "id": "24b1fe4f",
   "metadata": {},
   "outputs": [
    {
     "data": {
      "text/plain": [
       "{'tistory': {'status': '200',\n",
       "  'item': {'url': 'https://dmart.tistory.com/ 10',\n",
       "   'secondaryUrl': '',\n",
       "   'postId': '10',\n",
       "   'totalCount': '2',\n",
       "   'comments': [{'id': '13172618',\n",
       "     'date': '2022-08-13 15:39:10',\n",
       "     'name': 'D마트',\n",
       "     'parentId': '',\n",
       "     'homepage': '',\n",
       "     'visibility': '2',\n",
       "     'comment': '댓글 수정',\n",
       "     'open': 'Y'},\n",
       "    {'id': '13172620',\n",
       "     'date': '2022-08-13 15:40:11',\n",
       "     'name': 'D마트',\n",
       "     'parentId': '',\n",
       "     'homepage': 'https://dmart.tistory.com',\n",
       "     'visibility': '2',\n",
       "     'comment': 'Python',\n",
       "     'open': 'Y'}]}}}"
      ]
     },
     "execution_count": 25,
     "metadata": {},
     "output_type": "execute_result"
    }
   ],
   "source": [
    "post_id=10\n",
    "ts.list_comment(post_id)"
   ]
  },
  {
   "cell_type": "markdown",
   "id": "eed12ec9",
   "metadata": {},
   "source": [
    "### 댓글 작성"
   ]
  },
  {
   "cell_type": "code",
   "execution_count": 22,
   "id": "4629833e",
   "metadata": {},
   "outputs": [
    {
     "data": {
      "text/plain": [
       "{'tistory': {'status': '200',\n",
       "  'commentUrl': 'https://dmart.tistory.com/10#comment13172620',\n",
       "  'result': 'OK'}}"
      ]
     },
     "execution_count": 22,
     "metadata": {},
     "output_type": "execute_result"
    }
   ],
   "source": [
    "ts.write_comment(postId=10, content=\"Python\")"
   ]
  },
  {
   "cell_type": "markdown",
   "id": "3f0208d1",
   "metadata": {},
   "source": [
    "### 댓글 수정"
   ]
  },
  {
   "cell_type": "code",
   "execution_count": 24,
   "id": "375b126c",
   "metadata": {},
   "outputs": [
    {
     "data": {
      "text/plain": [
       "{'tistory': {'status': '200', 'commentUrl': '/10#comment13172618'}}"
      ]
     },
     "execution_count": 24,
     "metadata": {},
     "output_type": "execute_result"
    }
   ],
   "source": [
    "ts.modify_comment(postId=10, commentId=13172618, content=\"댓글 수정\")"
   ]
  },
  {
   "cell_type": "markdown",
   "id": "6cc67574",
   "metadata": {},
   "source": [
    "### 댓글 삭제"
   ]
  },
  {
   "cell_type": "code",
   "execution_count": 26,
   "id": "3dfc2439",
   "metadata": {},
   "outputs": [
    {
     "data": {
      "text/plain": [
       "{'tistory': {'status': '200'}}"
      ]
     },
     "execution_count": 26,
     "metadata": {},
     "output_type": "execute_result"
    }
   ],
   "source": [
    "ts.delete_comment(postId=11, commentId=13172620)"
   ]
  }
 ],
 "metadata": {
  "kernelspec": {
   "display_name": "test",
   "language": "python",
   "name": "test"
  },
  "language_info": {
   "codemirror_mode": {
    "name": "ipython",
    "version": 3
   },
   "file_extension": ".py",
   "mimetype": "text/x-python",
   "name": "python",
   "nbconvert_exporter": "python",
   "pygments_lexer": "ipython3",
   "version": "3.8.13"
  }
 },
 "nbformat": 4,
 "nbformat_minor": 5
}
